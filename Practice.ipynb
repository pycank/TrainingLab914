{
 "cells": [
  {
   "cell_type": "markdown",
   "id": "422813c9",
   "metadata": {},
   "source": [
    "# 0.**Data Preprocessing, dataset taken from Kaggle**\n",
    "*(https://www.kaggle.com/datasets/nehalbirla/vehicle-dataset-from-cardekho?resource=download)*"
   ]
  },
  {
   "cell_type": "code",
   "execution_count": 168,
   "id": "d0c7b9ad",
   "metadata": {},
   "outputs": [
    {
     "name": "stdout",
     "output_type": "stream",
     "text": [
      "(5369, 12)\n"
     ]
    }
   ],
   "source": [
    "import pandas as pd\n",
    "from sklearn import preprocessing\n",
    "from sklearn.model_selection import train_test_split\n",
    "from sklearn.preprocessing import StandardScaler\n",
    "\n",
    "df = pd.read_csv('Car_details.csv')\n",
    "\n",
    "# Dropping NA and duplicates entries \n",
    "df = df.dropna()\n",
    "# Dropna(): removes missing data\n",
    "\n",
    "df = df.drop_duplicates()\n",
    "# Drop_duplicates(): removes duplicate rows based on all columns.\n",
    "\n",
    "# Removing Unnecessary Columns\n",
    "df = df[df[\"owner\"] != \"Test Drive Car\"]\n",
    "\n",
    "# Reset index\n",
    "df.reset_index(drop=True, inplace=True)\n",
    "\n",
    "# Getting Company Name from Name of the Car\n",
    "name = df[\"name\"]\n",
    "names = []\n",
    "\n",
    "for i in range(len(name)):\n",
    "    c = str(name[i]).split(\" \")[0]\n",
    "    names.append(c)\n",
    "    \n",
    "df[\"company\"] = pd.DataFrame(names)\n",
    "df.drop(['name'], axis=1, inplace=True)\n",
    "\n",
    "# Labelling the string cells\n",
    "cat_cols = [\"fuel\", \"seller_type\", \"transmission\", \"owner\", \"company\", \"torque\"]\n",
    "le = preprocessing.LabelEncoder()\n",
    "df[cat_cols] = df[cat_cols].apply(le.fit_transform)\n",
    "\n",
    "# Remove units\n",
    "df.mileage = df.mileage.apply(lambda x: x.replace(\"kmpl\", \"\"))\n",
    "df.mileage = df.mileage.apply(lambda x: x.replace(\"km/kg\", \"\"))\n",
    "df.mileage = df.mileage.apply(lambda x: float(x))\n",
    "df.engine = df.engine.apply(lambda y: float(y.replace(\"CC\", \"\")))\n",
    "df.max_power = df.max_power.apply(lambda z: float(z.replace(\"bhp\", \"\")))\n",
    "\n",
    "# Training set splitting\n",
    "X = df.drop(columns=[\"selling_price\"])\n",
    "y = df[\"selling_price\"]\n",
    "X_train, X_test, y_train, y_test = train_test_split(X,y,train_size = 0.8, random_state = 42)\n",
    "\n",
    "sc = StandardScaler()\n",
    "X_train_std = sc.fit_transform(X_train)\n",
    "X_test_std = sc.transform(X_test)\n",
    "\n",
    "X_train_gd = X_train_std.copy()\n",
    "y_train_gd = y_train.copy()\n",
    "\n",
    "X_train_rf = X_train_std.copy()\n",
    "y_train_rf = y_train.copy()\n",
    "\n",
    "print(X_train.shape)"
   ]
  },
  {
   "cell_type": "code",
   "execution_count": 11,
   "id": "6b65c635",
   "metadata": {},
   "outputs": [
    {
     "name": "stdout",
     "output_type": "stream",
     "text": [
      "<class 'pandas.core.frame.DataFrame'>\n",
      "RangeIndex: 6712 entries, 0 to 6711\n",
      "Data columns (total 13 columns):\n",
      " #   Column         Non-Null Count  Dtype  \n",
      "---  ------         --------------  -----  \n",
      " 0   year           6712 non-null   int64  \n",
      " 1   selling_price  6712 non-null   int64  \n",
      " 2   km_driven      6712 non-null   int64  \n",
      " 3   fuel           6712 non-null   int32  \n",
      " 4   seller_type    6712 non-null   int32  \n",
      " 5   transmission   6712 non-null   int32  \n",
      " 6   owner          6712 non-null   int32  \n",
      " 7   mileage        6712 non-null   float64\n",
      " 8   engine         6712 non-null   float64\n",
      " 9   max_power      6712 non-null   float64\n",
      " 10  torque         6712 non-null   int32  \n",
      " 11  seats          6712 non-null   float64\n",
      " 12  company        6712 non-null   int32  \n",
      "dtypes: float64(4), int32(6), int64(3)\n",
      "memory usage: 524.5 KB\n"
     ]
    }
   ],
   "source": [
    "df.info()"
   ]
  },
  {
   "cell_type": "code",
   "execution_count": 12,
   "id": "4ae76954",
   "metadata": {},
   "outputs": [
    {
     "data": {
      "text/html": [
       "<div>\n",
       "<style scoped>\n",
       "    .dataframe tbody tr th:only-of-type {\n",
       "        vertical-align: middle;\n",
       "    }\n",
       "\n",
       "    .dataframe tbody tr th {\n",
       "        vertical-align: top;\n",
       "    }\n",
       "\n",
       "    .dataframe thead th {\n",
       "        text-align: right;\n",
       "    }\n",
       "</style>\n",
       "<table border=\"1\" class=\"dataframe\">\n",
       "  <thead>\n",
       "    <tr style=\"text-align: right;\">\n",
       "      <th></th>\n",
       "      <th>year</th>\n",
       "      <th>selling_price</th>\n",
       "      <th>km_driven</th>\n",
       "      <th>fuel</th>\n",
       "      <th>seller_type</th>\n",
       "      <th>transmission</th>\n",
       "      <th>owner</th>\n",
       "      <th>mileage</th>\n",
       "      <th>engine</th>\n",
       "      <th>max_power</th>\n",
       "      <th>torque</th>\n",
       "      <th>seats</th>\n",
       "      <th>company</th>\n",
       "    </tr>\n",
       "  </thead>\n",
       "  <tbody>\n",
       "    <tr>\n",
       "      <th>count</th>\n",
       "      <td>6712.000000</td>\n",
       "      <td>6.712000e+03</td>\n",
       "      <td>6.712000e+03</td>\n",
       "      <td>6712.000000</td>\n",
       "      <td>6712.000000</td>\n",
       "      <td>6712.000000</td>\n",
       "      <td>6712.000000</td>\n",
       "      <td>6712.000000</td>\n",
       "      <td>6712.000000</td>\n",
       "      <td>6712.000000</td>\n",
       "      <td>6712.000000</td>\n",
       "      <td>6712.000000</td>\n",
       "      <td>6712.000000</td>\n",
       "    </tr>\n",
       "    <tr>\n",
       "      <th>mean</th>\n",
       "      <td>2013.607122</td>\n",
       "      <td>5.234976e+05</td>\n",
       "      <td>7.344212e+04</td>\n",
       "      <td>1.882300</td>\n",
       "      <td>0.905542</td>\n",
       "      <td>0.914928</td>\n",
       "      <td>0.806019</td>\n",
       "      <td>19.468489</td>\n",
       "      <td>1430.757002</td>\n",
       "      <td>87.710610</td>\n",
       "      <td>216.056615</td>\n",
       "      <td>5.434595</td>\n",
       "      <td>17.730036</td>\n",
       "    </tr>\n",
       "    <tr>\n",
       "      <th>std</th>\n",
       "      <td>3.896075</td>\n",
       "      <td>5.092571e+05</td>\n",
       "      <td>5.870280e+04</td>\n",
       "      <td>1.001937</td>\n",
       "      <td>0.305932</td>\n",
       "      <td>0.279009</td>\n",
       "      <td>1.076941</td>\n",
       "      <td>4.048326</td>\n",
       "      <td>493.570825</td>\n",
       "      <td>31.658543</td>\n",
       "      <td>129.378397</td>\n",
       "      <td>0.984100</td>\n",
       "      <td>6.891595</td>\n",
       "    </tr>\n",
       "    <tr>\n",
       "      <th>min</th>\n",
       "      <td>1994.000000</td>\n",
       "      <td>2.999900e+04</td>\n",
       "      <td>1.000000e+00</td>\n",
       "      <td>0.000000</td>\n",
       "      <td>0.000000</td>\n",
       "      <td>0.000000</td>\n",
       "      <td>0.000000</td>\n",
       "      <td>0.000000</td>\n",
       "      <td>624.000000</td>\n",
       "      <td>32.800000</td>\n",
       "      <td>0.000000</td>\n",
       "      <td>2.000000</td>\n",
       "      <td>0.000000</td>\n",
       "    </tr>\n",
       "    <tr>\n",
       "      <th>25%</th>\n",
       "      <td>2011.000000</td>\n",
       "      <td>2.500000e+05</td>\n",
       "      <td>3.800000e+04</td>\n",
       "      <td>1.000000</td>\n",
       "      <td>1.000000</td>\n",
       "      <td>1.000000</td>\n",
       "      <td>0.000000</td>\n",
       "      <td>16.800000</td>\n",
       "      <td>1197.000000</td>\n",
       "      <td>67.100000</td>\n",
       "      <td>116.000000</td>\n",
       "      <td>5.000000</td>\n",
       "      <td>11.000000</td>\n",
       "    </tr>\n",
       "    <tr>\n",
       "      <th>50%</th>\n",
       "      <td>2014.000000</td>\n",
       "      <td>4.200000e+05</td>\n",
       "      <td>6.855950e+04</td>\n",
       "      <td>1.000000</td>\n",
       "      <td>1.000000</td>\n",
       "      <td>1.000000</td>\n",
       "      <td>0.000000</td>\n",
       "      <td>19.440000</td>\n",
       "      <td>1248.000000</td>\n",
       "      <td>81.830000</td>\n",
       "      <td>192.000000</td>\n",
       "      <td>5.000000</td>\n",
       "      <td>20.000000</td>\n",
       "    </tr>\n",
       "    <tr>\n",
       "      <th>75%</th>\n",
       "      <td>2017.000000</td>\n",
       "      <td>6.500000e+05</td>\n",
       "      <td>1.000000e+05</td>\n",
       "      <td>3.000000</td>\n",
       "      <td>1.000000</td>\n",
       "      <td>1.000000</td>\n",
       "      <td>2.000000</td>\n",
       "      <td>22.510000</td>\n",
       "      <td>1498.000000</td>\n",
       "      <td>100.000000</td>\n",
       "      <td>315.000000</td>\n",
       "      <td>5.000000</td>\n",
       "      <td>20.000000</td>\n",
       "    </tr>\n",
       "    <tr>\n",
       "      <th>max</th>\n",
       "      <td>2020.000000</td>\n",
       "      <td>1.000000e+07</td>\n",
       "      <td>2.360457e+06</td>\n",
       "      <td>3.000000</td>\n",
       "      <td>2.000000</td>\n",
       "      <td>1.000000</td>\n",
       "      <td>3.000000</td>\n",
       "      <td>42.000000</td>\n",
       "      <td>3604.000000</td>\n",
       "      <td>400.000000</td>\n",
       "      <td>438.000000</td>\n",
       "      <td>14.000000</td>\n",
       "      <td>30.000000</td>\n",
       "    </tr>\n",
       "  </tbody>\n",
       "</table>\n",
       "</div>"
      ],
      "text/plain": [
       "              year  selling_price     km_driven         fuel  seller_type  \\\n",
       "count  6712.000000   6.712000e+03  6.712000e+03  6712.000000  6712.000000   \n",
       "mean   2013.607122   5.234976e+05  7.344212e+04     1.882300     0.905542   \n",
       "std       3.896075   5.092571e+05  5.870280e+04     1.001937     0.305932   \n",
       "min    1994.000000   2.999900e+04  1.000000e+00     0.000000     0.000000   \n",
       "25%    2011.000000   2.500000e+05  3.800000e+04     1.000000     1.000000   \n",
       "50%    2014.000000   4.200000e+05  6.855950e+04     1.000000     1.000000   \n",
       "75%    2017.000000   6.500000e+05  1.000000e+05     3.000000     1.000000   \n",
       "max    2020.000000   1.000000e+07  2.360457e+06     3.000000     2.000000   \n",
       "\n",
       "       transmission        owner      mileage       engine    max_power  \\\n",
       "count   6712.000000  6712.000000  6712.000000  6712.000000  6712.000000   \n",
       "mean       0.914928     0.806019    19.468489  1430.757002    87.710610   \n",
       "std        0.279009     1.076941     4.048326   493.570825    31.658543   \n",
       "min        0.000000     0.000000     0.000000   624.000000    32.800000   \n",
       "25%        1.000000     0.000000    16.800000  1197.000000    67.100000   \n",
       "50%        1.000000     0.000000    19.440000  1248.000000    81.830000   \n",
       "75%        1.000000     2.000000    22.510000  1498.000000   100.000000   \n",
       "max        1.000000     3.000000    42.000000  3604.000000   400.000000   \n",
       "\n",
       "            torque        seats      company  \n",
       "count  6712.000000  6712.000000  6712.000000  \n",
       "mean    216.056615     5.434595    17.730036  \n",
       "std     129.378397     0.984100     6.891595  \n",
       "min       0.000000     2.000000     0.000000  \n",
       "25%     116.000000     5.000000    11.000000  \n",
       "50%     192.000000     5.000000    20.000000  \n",
       "75%     315.000000     5.000000    20.000000  \n",
       "max     438.000000    14.000000    30.000000  "
      ]
     },
     "execution_count": 12,
     "metadata": {},
     "output_type": "execute_result"
    }
   ],
   "source": [
    "df.describe()"
   ]
  },
  {
   "cell_type": "markdown",
   "id": "2ca4b141",
   "metadata": {},
   "source": [
    "# 1. Linear Regression\n",
    "* Original way"
   ]
  },
  {
   "cell_type": "code",
   "execution_count": 15,
   "id": "b6ef9735",
   "metadata": {},
   "outputs": [],
   "source": [
    "import numpy as np\n",
    "import matplotlib.pyplot as plt\n",
    "import seaborn as sns\n",
    "import warnings\n",
    "import pickle\n",
    "\n",
    "from sklearn.linear_model import LinearRegression\n",
    "from sklearn import *\n",
    "\n",
    "warnings.simplefilter(action='ignore')\n",
    "plt.style.use('seaborn')\n"
   ]
  },
  {
   "cell_type": "code",
   "execution_count": 16,
   "id": "183ee6bb",
   "metadata": {},
   "outputs": [
    {
     "name": "stdout",
     "output_type": "stream",
     "text": [
      "[ 104279.35524464  -84054.68720574  473512.61874191 ...  825846.90228087\n",
      " 1107093.18507145  785080.59070629]\n",
      "[ 500266.28001806 1634838.31420581  310364.98533358 ...   98520.69678592\n",
      "  673863.50769808  498610.01724909]\n"
     ]
    }
   ],
   "source": [
    "# Linear Regression\n",
    "linear_regression = LinearRegression()\n",
    "linear_regression.fit(X_train_std, y_train)\n",
    "\n",
    "# Linear Regression - Training \n",
    "lin_train_pred = linear_regression.predict(X_train_std)\n",
    "print(lin_train_pred)\n",
    "\n",
    "# Linear Regression - Testing \n",
    "lin_test_pred = linear_regression.predict(X_test_std)\n",
    "print(lin_test_pred)"
   ]
  },
  {
   "cell_type": "code",
   "execution_count": 17,
   "id": "93072b5e",
   "metadata": {},
   "outputs": [
    {
     "data": {
      "text/plain": [
       "<matplotlib.collections.PathCollection at 0x253397c15d0>"
      ]
     },
     "execution_count": 17,
     "metadata": {},
     "output_type": "execute_result"
    },
    {
     "data": {
      "image/png": "[encoded data removed]",
      "text/plain": [
       "<Figure size 800x550 with 1 Axes>"
      ]
     },
     "metadata": {},
     "output_type": "display_data"
    }
   ],
   "source": [
    "plt.scatter(y_test,lin_test_pred)"
   ]
  },
  {
   "cell_type": "code",
   "execution_count": 176,
   "id": "64e71587",
   "metadata": {},
   "outputs": [
    {
     "name": "stdout",
     "output_type": "stream",
     "text": [
      "RMSE on train set: 317568.0742442379\n",
      "RMSE on test set: 250723.86197856913\n",
      "Accuracy on Training: R Square: 0.6396152498936332\n",
      "Accuracy on Testing: R Square: 0.6444455745326341\n"
     ]
    }
   ],
   "source": [
    "#RMSE and Accuracy rate comparing\n",
    "print('RMSE on train set:', np.sqrt(metrics.mean_squared_error(y_train, lin_train_pred)))\n",
    "print('RMSE on test set:', np.sqrt(metrics.mean_squared_error(y_test, lin_test_pred)))\n",
    "\n",
    "r2_score_train = metrics.r2_score(y_train, lin_train_pred)\n",
    "print(f\"Accuracy on Training: R Square: {r2_score_train}\")\n",
    "r2_score_test = metrics.r2_score(y_test, lin_test_pred)\n",
    "print(f\"Accuracy on Testing: R Square: {r2_score_test}\")"
   ]
  },
  {
   "cell_type": "markdown",
   "id": "930cfdf0",
   "metadata": {},
   "source": [
    "# 2. Gradient Descent\n",
    "* **Batch Gradient Descent** : Based on \n",
    "$$\\theta_{next} = \\theta - \\eta\\bigtriangledown_{\\theta}MSE(\\theta) = \\theta-\\eta\\frac{2}{m}X^T(X\\theta-y)$$"
   ]
  },
  {
   "cell_type": "code",
   "execution_count": 104,
   "id": "be689f3e",
   "metadata": {},
   "outputs": [],
   "source": [
    "class GDLinearRegression:\n",
    "    def __init__(self, lr, step):\n",
    "        #learning rate and step setting\n",
    "        self.lr = lr\n",
    "        self.step = step\n",
    "\n",
    "    def fit(self, X, y):\n",
    "        \n",
    "        # standardize the data form\n",
    "        self.n_features = X.shape[1] if len(X.shape) > 1 else 1 \n",
    "        train_size = len(X)\n",
    "        X = X.reshape(-1, self.n_features)\n",
    "        y = y.values.reshape([-1, 1])\n",
    "\n",
    "        # because we want to guess y = X.T*W + bias, we put bias in W (W|bias) and a column of full one on X (X|one)\n",
    "        # so the computation is y = (X|one).T*(W|bias), which is a lot easier and faster\n",
    "        one = np.ones([train_size, 1])\n",
    "        X = np.concatenate([X, one], 1)\n",
    "\n",
    "        self.weight = np.zeros([self.n_features + 1, 1])\n",
    "        self.train_loss = []\n",
    "\n",
    "        # train\n",
    "        for i in range(self.step):\n",
    "            loss = np.sum((y - np.dot(X, self.weight)) ** 2)\n",
    "            delta = np.dot(X.T, (np.dot(X, self.weight) - y))\n",
    "\n",
    "            # update weight\n",
    "            self.weight = self.weight - (self.lr/train_size) * delta\n",
    "\n",
    "            # loss average\n",
    "            loss = loss/train_size\n",
    "            #print(loss)\n",
    "            \n",
    "            self.train_loss.append(loss.item())\n",
    "\n",
    "    def predict(self, X):\n",
    "\n",
    "        # format standardizing\n",
    "        X = X.reshape(-1, self.n_features)\n",
    "\n",
    "        # add more column of full 1\n",
    "        one = np.ones([len(X), 1])\n",
    "        X = np.concatenate([X, one], 1)\n",
    "\n",
    "        # prediction\n",
    "        y_hat = np.dot(X, self.weight)\n",
    "\n",
    "        return y_hat\n",
    "\n",
    "    def print_weight(self):\n",
    "        print(self.weight)\n",
    "\n",
    "    def get_train_loss(self):\n",
    "        return self.train_loss"
   ]
  },
  {
   "cell_type": "code",
   "execution_count": 105,
   "id": "d7faa016",
   "metadata": {},
   "outputs": [
    {
     "data": {
      "image/png": "[encoded data removed]",
      "text/plain": [
       "<Figure size 800x550 with 1 Axes>"
      ]
     },
     "metadata": {},
     "output_type": "display_data"
    }
   ],
   "source": [
    "mymodel = GDLinearRegression(0.01, 5000)\n",
    "mymodel.fit(X_train_gd, y_train_gd)\n",
    "\n",
    "train_loss = mymodel.get_train_loss()\n",
    "plt.plot(range(len(train_loss)), train_loss)\n",
    "plt.xlabel('Step')\n",
    "plt.ylabel('Loss')\n",
    "plt.show()"
   ]
  },
  {
   "cell_type": "code",
   "execution_count": 125,
   "id": "c1ec106c",
   "metadata": {},
   "outputs": [
    {
     "name": "stdout",
     "output_type": "stream",
     "text": [
      "Train RMSE:  317694.37329975876\n",
      "Test RMSE:  252614.3035677492\n",
      "Accuracy on Training: 0.6393285377942641\n",
      "Accuracy on Testing: 0.63906364662375\n"
     ]
    }
   ],
   "source": [
    "y_hat_train = mymodel.predict(X_train_gd)\n",
    "y_hat_test = mymodel.predict(X_test_std)\n",
    "\n",
    "rmse_train = np.sqrt(metrics.mean_squared_error(y_hat_train, y_train))\n",
    "print('Train RMSE: ', rmse_train)\n",
    "rmse_test = np.sqrt(metrics.mean_squared_error(y_hat_test, y_test))\n",
    "print('Test RMSE: ', rmse_test)\n",
    "\n",
    "r2_score_train = metrics.r2_score(y_train, y_hat_train)\n",
    "print(f\"Accuracy on Training: {r2_score_train}\")\n",
    "r2_score_test = metrics.r2_score(y_test, y_hat_test)\n",
    "print(f\"Accuracy on Testing: {r2_score_test}\")"
   ]
  },
  {
   "cell_type": "markdown",
   "id": "03d43ec9",
   "metadata": {},
   "source": [
    "* **Stochastic Gradient Descent (SGD)**: Given number of epochs, after each epoch, we shuffle (X,y) to manage the stochastic property\n",
    "$$\\theta_{next} = \\theta - \\eta\\bigtriangledown_{\\theta}MSE(\\theta;X_i;y_i)$$"
   ]
  },
  {
   "cell_type": "code",
   "execution_count": 117,
   "id": "cd68d569",
   "metadata": {},
   "outputs": [],
   "source": [
    "class SGDLinearRegression:\n",
    "    def __init__(self, lr, step, epoch, t1, t0):\n",
    "        #learning rate and step setting\n",
    "        self.lr = lr\n",
    "        self.step = step\n",
    "        self.epoch = epoch\n",
    "        self.t0 = t0\n",
    "        self.t1 = t1\n",
    "        \n",
    "    def fit(self, X, y):\n",
    "        \n",
    "        # standardize the data form\n",
    "        self.n_features = X.shape[1] if len(X.shape) > 1 else 1 \n",
    "        train_size = len(X)\n",
    "        X = X.reshape(-1, self.n_features)\n",
    "        y = y.values.reshape([-1, 1])\n",
    "\n",
    "        # because we want to guess y = X.T*W + bias, we put bias in W (W|bias) and a column of full one on X (X|one)\n",
    "        # so the computation is y = (X|one).T*(W|bias), which is a lot easier and faster\n",
    "        one = np.ones([train_size, 1])\n",
    "        X = np.concatenate([X, one], 1)\n",
    "\n",
    "        self.weight = np.zeros([self.n_features + 1, 1])\n",
    "        self.train_loss = []\n",
    "        \n",
    "        def learning_schedule(t):\n",
    "            return self.t0/(t + self.t1)\n",
    "\n",
    "        # train\n",
    "        for epoch in range (self.epoch):    \n",
    "            for i in range(self.step):\n",
    "                random_index = np.random.randint(self.step)\n",
    "                xi = X[random_index:random_index+1]\n",
    "                yi = y[random_index:random_index+1]\n",
    "                loss = np.sum((yi - np.dot(xi, self.weight)) ** 2)\n",
    "                delta = np.dot(xi.T, (np.dot(xi, self.weight) - yi))\n",
    "\n",
    "                # update weight\n",
    "                self.lr = learning_schedule(epoch * self.step + i)\n",
    "                self.weight = self.weight - self.lr * delta\n",
    "\n",
    "                # loss average\n",
    "                loss = loss/train_size\n",
    "                #print(loss)\n",
    "\n",
    "                self.train_loss.append(loss.item())\n",
    "\n",
    "    def predict(self, X):\n",
    "\n",
    "        # format standardizing\n",
    "        X = X.reshape(-1, self.n_features)\n",
    "\n",
    "        # add more column of full 1\n",
    "        one = np.ones([len(X), 1])\n",
    "        X = np.concatenate([X, one], 1)\n",
    "\n",
    "        # prediction\n",
    "        y_hat = np.dot(X, self.weight)\n",
    "\n",
    "        return y_hat\n",
    "\n",
    "    def print_weight(self):\n",
    "        print(self.weight)\n",
    "\n",
    "    def get_train_loss(self):\n",
    "        return self.train_loss        "
   ]
  },
  {
   "cell_type": "code",
   "execution_count": 128,
   "id": "b9acc2cc",
   "metadata": {},
   "outputs": [],
   "source": [
    "mymodel = SGDLinearRegression(0.01, 5000, 50, 50, 5)\n",
    "\n",
    "mymodel.fit(X_train_gd, y_train_gd)"
   ]
  },
  {
   "cell_type": "code",
   "execution_count": 129,
   "id": "646036a9",
   "metadata": {},
   "outputs": [
    {
     "name": "stdout",
     "output_type": "stream",
     "text": [
      "Train RMSE:  317598.1540874438\n",
      "Test RMSE:  250187.62804655673\n",
      "Accuracy on Training: 0.6395469758380833\n",
      "Accuracy on Testing: 0.6459648273022549\n"
     ]
    }
   ],
   "source": [
    "y_hat_train = mymodel.predict(X_train_gd)\n",
    "y_hat_test = mymodel.predict(X_test_std)\n",
    "\n",
    "rmse_train = np.sqrt(metrics.mean_squared_error(y_hat_train, y_train))\n",
    "print('Train RMSE: ', rmse_train)\n",
    "rmse_test = np.sqrt(metrics.mean_squared_error(y_hat_test, y_test))\n",
    "print('Test RMSE: ', rmse_test)\n",
    "\n",
    "r2_score_train = metrics.r2_score(y_train, y_hat_train)\n",
    "print(f\"Accuracy on Training: {r2_score_train}\")\n",
    "r2_score_test = metrics.r2_score(y_test, y_hat_test)\n",
    "print(f\"Accuracy on Testing: {r2_score_test}\")"
   ]
  },
  {
   "cell_type": "markdown",
   "id": "e3b0d410",
   "metadata": {},
   "source": [
    "**Comparing the Batch GD and SGD, we can see the number of implements of SGD is way too much lower, but the accuracy gained is slightly over than the Batch GD, which means SGD is a lot stronger**"
   ]
  },
  {
   "cell_type": "markdown",
   "id": "d30a144e",
   "metadata": {},
   "source": [
    "* Or we can use the SGDRegressor pack in Scikitlearn library"
   ]
  },
  {
   "cell_type": "code",
   "execution_count": 130,
   "id": "66b6522d",
   "metadata": {},
   "outputs": [
    {
     "data": {
      "text/html": [
       "<style>#sk-container-id-1 {color: black;background-color: white;}#sk-container-id-1 pre{padding: 0;}#sk-container-id-1 div.sk-toggleable {background-color: white;}#sk-container-id-1 label.sk-toggleable__label {cursor: pointer;display: block;width: 100%;margin-bottom: 0;padding: 0.3em;box-sizing: border-box;text-align: center;}#sk-container-id-1 label.sk-toggleable__label-arrow:before {content: \"▸\";float: left;margin-right: 0.25em;color: #696969;}#sk-container-id-1 label.sk-toggleable__label-arrow:hover:before {color: black;}#sk-container-id-1 div.sk-estimator:hover label.sk-toggleable__label-arrow:before {color: black;}#sk-container-id-1 div.sk-toggleable__content {max-height: 0;max-width: 0;overflow: hidden;text-align: left;background-color: #f0f8ff;}#sk-container-id-1 div.sk-toggleable__content pre {margin: 0.2em;color: black;border-radius: 0.25em;background-color: #f0f8ff;}#sk-container-id-1 input.sk-toggleable__control:checked~div.sk-toggleable__content {max-height: 200px;max-width: 100%;overflow: auto;}#sk-container-id-1 input.sk-toggleable__control:checked~label.sk-toggleable__label-arrow:before {content: \"▾\";}#sk-container-id-1 div.sk-estimator input.sk-toggleable__control:checked~label.sk-toggleable__label {background-color: #d4ebff;}#sk-container-id-1 div.sk-label input.sk-toggleable__control:checked~label.sk-toggleable__label {background-color: #d4ebff;}#sk-container-id-1 input.sk-hidden--visually {border: 0;clip: rect(1px 1px 1px 1px);clip: rect(1px, 1px, 1px, 1px);height: 1px;margin: -1px;overflow: hidden;padding: 0;position: absolute;width: 1px;}#sk-container-id-1 div.sk-estimator {font-family: monospace;background-color: #f0f8ff;border: 1px dotted black;border-radius: 0.25em;box-sizing: border-box;margin-bottom: 0.5em;}#sk-container-id-1 div.sk-estimator:hover {background-color: #d4ebff;}#sk-container-id-1 div.sk-parallel-item::after {content: \"\";width: 100%;border-bottom: 1px solid gray;flex-grow: 1;}#sk-container-id-1 div.sk-label:hover label.sk-toggleable__label {background-color: #d4ebff;}#sk-container-id-1 div.sk-serial::before {content: \"\";position: absolute;border-left: 1px solid gray;box-sizing: border-box;top: 0;bottom: 0;left: 50%;z-index: 0;}#sk-container-id-1 div.sk-serial {display: flex;flex-direction: column;align-items: center;background-color: white;padding-right: 0.2em;padding-left: 0.2em;position: relative;}#sk-container-id-1 div.sk-item {position: relative;z-index: 1;}#sk-container-id-1 div.sk-parallel {display: flex;align-items: stretch;justify-content: center;background-color: white;position: relative;}#sk-container-id-1 div.sk-item::before, #sk-container-id-1 div.sk-parallel-item::before {content: \"\";position: absolute;border-left: 1px solid gray;box-sizing: border-box;top: 0;bottom: 0;left: 50%;z-index: -1;}#sk-container-id-1 div.sk-parallel-item {display: flex;flex-direction: column;z-index: 1;position: relative;background-color: white;}#sk-container-id-1 div.sk-parallel-item:first-child::after {align-self: flex-end;width: 50%;}#sk-container-id-1 div.sk-parallel-item:last-child::after {align-self: flex-start;width: 50%;}#sk-container-id-1 div.sk-parallel-item:only-child::after {width: 0;}#sk-container-id-1 div.sk-dashed-wrapped {border: 1px dashed gray;margin: 0 0.4em 0.5em 0.4em;box-sizing: border-box;padding-bottom: 0.4em;background-color: white;}#sk-container-id-1 div.sk-label label {font-family: monospace;font-weight: bold;display: inline-block;line-height: 1.2em;}#sk-container-id-1 div.sk-label-container {text-align: center;}#sk-container-id-1 div.sk-container {/* jupyter's `normalize.less` sets `[hidden] { display: none; }` but bootstrap.min.css set `[hidden] { display: none !important; }` so we also need the `!important` here to be able to override the default hidden behavior on the sphinx rendered scikit-learn.org. See: https://github.com/scikit-learn/scikit-learn/issues/21755 */display: inline-block !important;position: relative;}#sk-container-id-1 div.sk-text-repr-fallback {display: none;}</style><div id=\"sk-container-id-1\" class=\"sk-top-container\"><div class=\"sk-text-repr-fallback\"><pre>SGDRegressor(max_iter=50, penalty=None)</pre><b>In a Jupyter environment, please rerun this cell to show the HTML representation or trust the notebook. <br />On GitHub, the HTML representation is unable to render, please try loading this page with nbviewer.org.</b></div><div class=\"sk-container\" hidden><div class=\"sk-item\"><div class=\"sk-estimator sk-toggleable\"><input class=\"sk-toggleable__control sk-hidden--visually\" id=\"sk-estimator-id-1\" type=\"checkbox\" checked><label for=\"sk-estimator-id-1\" class=\"sk-toggleable__label sk-toggleable__label-arrow\">SGDRegressor</label><div class=\"sk-toggleable__content\"><pre>SGDRegressor(max_iter=50, penalty=None)</pre></div></div></div></div></div>"
      ],
      "text/plain": [
       "SGDRegressor(max_iter=50, penalty=None)"
      ]
     },
     "execution_count": 130,
     "metadata": {},
     "output_type": "execute_result"
    }
   ],
   "source": [
    "from sklearn.linear_model import SGDRegressor\n",
    "sgd_reg = SGDRegressor(max_iter=50, tol=1e-3, penalty=None, eta0=0.01)\n",
    "sgd_reg.fit(X_train_gd, y_train_gd.ravel())"
   ]
  },
  {
   "cell_type": "code",
   "execution_count": 131,
   "id": "1b096d0e",
   "metadata": {},
   "outputs": [
    {
     "name": "stdout",
     "output_type": "stream",
     "text": [
      "Train RMSE:  318031.5523383022\n",
      "Test RMSE:  252133.08399088826\n",
      "Accuracy on Training: 0.6385625475734871\n",
      "Accuracy on Testing: 0.6404374738463736\n"
     ]
    }
   ],
   "source": [
    "y_hat_train = sgd_reg.predict(X_train_gd)\n",
    "y_hat_test = sgd_reg.predict(X_test_std)\n",
    "\n",
    "rmse_train = np.sqrt(metrics.mean_squared_error(y_hat_train, y_train))\n",
    "print('Train RMSE: ', rmse_train)\n",
    "rmse_test = np.sqrt(metrics.mean_squared_error(y_hat_test, y_test))\n",
    "print('Test RMSE: ', rmse_test)\n",
    "\n",
    "r2_score_train = metrics.r2_score(y_train, y_hat_train)\n",
    "print(f\"Accuracy on Training: {r2_score_train}\")\n",
    "r2_score_test = metrics.r2_score(y_test, y_hat_test)\n",
    "print(f\"Accuracy on Testing: {r2_score_test}\")"
   ]
  },
  {
   "cell_type": "markdown",
   "id": "2f37fe9a",
   "metadata": {},
   "source": [
    "# 3. Ridge Regression\n",
    "$$ J(\\theta) = MSE(\\theta)+\\alpha\\frac{1}{2}\\sum_{i=1}^{n}\\theta_i^2 \\Leftrightarrow \\hat{\\theta}=(X^TX+\\alpha I_{n+1})^{-1}X^Ty $$ "
   ]
  },
  {
   "cell_type": "code",
   "execution_count": 143,
   "id": "bd209bbc",
   "metadata": {},
   "outputs": [
    {
     "data": {
      "text/plain": [
       "array([1026011.46302312, 1026011.46302312])"
      ]
     },
     "execution_count": 143,
     "metadata": {},
     "output_type": "execute_result"
    }
   ],
   "source": [
    "from sklearn.linear_model import Ridge\n",
    "ridge_reg = Ridge(alpha=1, solver=\"cholesky\")\n",
    "ridge_reg.fit(X_train_gd, y_train_gd)\n",
    "ridge_reg.predict([[1.5, 1.5, 1.5, 1.5, 1.5, 1.5, 1.5, 1.5, 1.5, 1.5, 1.5, 1.5],\n",
    "                   [1.5, 1.5, 1.5, 1.5, 1.5, 1.5, 1.5, 1.5, 1.5, 1.5, 1.5, 1.5]])\n",
    "#depends on the prediction, here we choose this matrix"
   ]
  },
  {
   "cell_type": "code",
   "execution_count": 144,
   "id": "b3807603",
   "metadata": {},
   "outputs": [
    {
     "name": "stdout",
     "output_type": "stream",
     "text": [
      "Train RMSE:  317568.08087195293\n",
      "Test RMSE:  250711.1808753304\n",
      "Accuracy on Training: 0.6396152348510162\n",
      "Accuracy on Testing: 0.6444815400631361\n"
     ]
    }
   ],
   "source": [
    "y_hat_train = ridge_reg.predict(X_train_gd)\n",
    "y_hat_test = ridge_reg.predict(X_test_std)\n",
    "\n",
    "rmse_train = np.sqrt(metrics.mean_squared_error(y_hat_train, y_train))\n",
    "print('Train RMSE: ', rmse_train)\n",
    "rmse_test = np.sqrt(metrics.mean_squared_error(y_hat_test, y_test))\n",
    "print('Test RMSE: ', rmse_test)\n",
    "\n",
    "r2_score_train = metrics.r2_score(y_train, y_hat_train)\n",
    "print(f\"Accuracy on Training: {r2_score_train}\")\n",
    "r2_score_test = metrics.r2_score(y_test, y_hat_test)\n",
    "print(f\"Accuracy on Testing: {r2_score_test}\")"
   ]
  },
  {
   "cell_type": "markdown",
   "id": "2a3f26b5",
   "metadata": {},
   "source": [
    "* A little bit of SGD applied here, but the answer is not precisely good because I'm lazy to choose the tuner"
   ]
  },
  {
   "cell_type": "code",
   "execution_count": 155,
   "id": "7f97228b",
   "metadata": {},
   "outputs": [
    {
     "data": {
      "text/plain": [
       "array([1020003.3912455, 1020003.3912455])"
      ]
     },
     "execution_count": 155,
     "metadata": {},
     "output_type": "execute_result"
    }
   ],
   "source": [
    "sgd_reg_ridge = SGDRegressor(penalty=\"l2\")\n",
    "sgd_reg_ridge.fit(X_train_gd, y_train_gd.ravel())\n",
    "sgd_reg_ridge.predict([[1.5, 1.5, 1.5, 1.5, 1.5, 1.5, 1.5, 1.5, 1.5, 1.5, 1.5, 1.5],\n",
    "                   [1.5, 1.5, 1.5, 1.5, 1.5, 1.5, 1.5, 1.5, 1.5, 1.5, 1.5, 1.5]])"
   ]
  },
  {
   "cell_type": "code",
   "execution_count": 156,
   "id": "29f872da",
   "metadata": {},
   "outputs": [
    {
     "name": "stdout",
     "output_type": "stream",
     "text": [
      "Train RMSE:  319672.4094370074\n",
      "Test RMSE:  248576.8748672949\n",
      "Accuracy on Training: 0.6348233138690131\n",
      "Accuracy on Testing: 0.6505088373749042\n"
     ]
    }
   ],
   "source": [
    "y_hat_train = sgd_reg_ridge.predict(X_train_gd)\n",
    "y_hat_test = sgd_reg_ridge.predict(X_test_std)\n",
    "\n",
    "rmse_train = np.sqrt(metrics.mean_squared_error(y_hat_train, y_train))\n",
    "print('Train RMSE: ', rmse_train)\n",
    "rmse_test = np.sqrt(metrics.mean_squared_error(y_hat_test, y_test))\n",
    "print('Test RMSE: ', rmse_test)\n",
    "\n",
    "r2_score_train = metrics.r2_score(y_train, y_hat_train)\n",
    "print(f\"Accuracy on Training: {r2_score_train}\")\n",
    "r2_score_test = metrics.r2_score(y_test, y_hat_test)\n",
    "print(f\"Accuracy on Testing: {r2_score_test}\")"
   ]
  },
  {
   "cell_type": "markdown",
   "id": "3ea46a27",
   "metadata": {},
   "source": [
    "# 4. Lasso Regression\n",
    "$$ J(\\theta) = MSE(\\theta)+\\alpha\\sum_{i=1}^{n}|\\theta_i| $$"
   ]
  },
  {
   "cell_type": "code",
   "execution_count": 158,
   "id": "30a158a1",
   "metadata": {},
   "outputs": [
    {
     "data": {
      "text/plain": [
       "array([1026223.51344743, 1026223.51344743])"
      ]
     },
     "execution_count": 158,
     "metadata": {},
     "output_type": "execute_result"
    }
   ],
   "source": [
    "from sklearn.linear_model import Lasso\n",
    "lasso_reg = Lasso(alpha=0.1)\n",
    "lasso_reg.fit(X_train_gd, y_train_gd)\n",
    "lasso_reg.predict([[1.5, 1.5, 1.5, 1.5, 1.5, 1.5, 1.5, 1.5, 1.5, 1.5, 1.5, 1.5],\n",
    "                   [1.5, 1.5, 1.5, 1.5, 1.5, 1.5, 1.5, 1.5, 1.5, 1.5, 1.5, 1.5]])"
   ]
  },
  {
   "cell_type": "code",
   "execution_count": 162,
   "id": "da4cd569",
   "metadata": {},
   "outputs": [
    {
     "name": "stdout",
     "output_type": "stream",
     "text": [
      "Train RMSE:  317568.0742444499\n",
      "Test RMSE:  250723.82301208153\n",
      "Accuracy on Training: 0.6396152498931519\n",
      "Accuracy on Testing: 0.6444456850502842\n"
     ]
    }
   ],
   "source": [
    "y_hat_train = lasso_reg.predict(X_train_gd)\n",
    "y_hat_test = lasso_reg.predict(X_test_std)\n",
    "\n",
    "rmse_train = np.sqrt(metrics.mean_squared_error(y_hat_train, y_train))\n",
    "print('Train RMSE: ', rmse_train)\n",
    "rmse_test = np.sqrt(metrics.mean_squared_error(y_hat_test, y_test))\n",
    "print('Test RMSE: ', rmse_test)\n",
    "\n",
    "r2_score_train = metrics.r2_score(y_train, y_hat_train)\n",
    "print(f\"Accuracy on Training: {r2_score_train}\")\n",
    "r2_score_test = metrics.r2_score(y_test, y_hat_test)\n",
    "print(f\"Accuracy on Testing: {r2_score_test}\")"
   ]
  },
  {
   "cell_type": "markdown",
   "id": "f2cb6a68",
   "metadata": {},
   "source": [
    "# 5. Random Forest"
   ]
  },
  {
   "cell_type": "code",
   "execution_count": 174,
   "id": "5ed6acec",
   "metadata": {},
   "outputs": [],
   "source": [
    "from sklearn.model_selection import RandomizedSearchCV\n",
    "from sklearn.ensemble import RandomForestRegressor\n",
    "\n",
    "Rf = RandomForestRegressor()\n",
    "\n",
    "Rf.fit(X_train_rf, y_train_rf)\n",
    "\n",
    "Rf_train_pred = Rf.predict(X_train_rf)\n",
    "Rf_test_pred = Rf.predict(X_test_std)"
   ]
  },
  {
   "cell_type": "code",
   "execution_count": 175,
   "id": "3acd5f24",
   "metadata": {},
   "outputs": [
    {
     "name": "stdout",
     "output_type": "stream",
     "text": [
      "RMSE on the train set: 64644.19978579845\n",
      "RMSE on the test set: 128026.96957217836\n",
      "Accuracy on the train set: 0.9850668350611635\n",
      "Accuracy on the test set: 0.9072918995723998\n"
     ]
    }
   ],
   "source": [
    "r2_score_train = metrics.r2_score(y_train_rf, Rf_train_pred)\n",
    "r2_score_test = metrics.r2_score(y_test, Rf_test_pred)\n",
    "\n",
    "print('RMSE on the train set:', np.sqrt(metrics.mean_squared_error(y_train_rf, Rf_train_pred)))\n",
    "print('RMSE on the test set:', np.sqrt(metrics.mean_squared_error(y_test, Rf_test_pred)))\n",
    "print(f\"Accuracy on the train set: {r2_score_train}\")\n",
    "print(f\"Accuracy on the test set: {r2_score_test}\")"
   ]
  },
  {
   "cell_type": "code",
   "execution_count": null,
   "id": "e7fd0ee7",
   "metadata": {},
   "outputs": [],
   "source": []
  },
  {
   "cell_type": "code",
   "execution_count": null,
   "id": "c27f9c94",
   "metadata": {},
   "outputs": [],
   "source": []
  }
 ],
 "metadata": {
  "kernelspec": {
   "display_name": "Python 3 (ipykernel)",
   "language": "python",
   "name": "python3"
  },
  "language_info": {
   "codemirror_mode": {
    "name": "ipython",
    "version": 3
   },
   "file_extension": ".py",
   "mimetype": "text/x-python",
   "name": "python",
   "nbconvert_exporter": "python",
   "pygments_lexer": "ipython3",
   "version": "3.10.9"
  }
 },
 "nbformat": 4,
 "nbformat_minor": 5
}
